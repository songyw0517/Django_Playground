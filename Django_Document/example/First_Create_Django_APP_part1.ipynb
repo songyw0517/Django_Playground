{
 "cells": [
  {
   "attachments": {},
   "cell_type": "markdown",
   "metadata": {},
   "source": [
    "### 파이썬 버전에 맞는 장고 버전 선택하기\n",
    "<pre>\n",
    "Django version  | Python versions\n",
    "2.2             | 3.5, 3.6, 3.7, 3.8 (added in 2.2.8), 3.9 (added in 2.2.17)\n",
    "3.1             | 3.6, 3.7, 3.8, 3.9 (added in 3.1.3)\n",
    "3.2             | 3.6, 3.7, 3.8, 3.9, 3.10 (added in 3.2.9)\n",
    "4.0             | 3.8, 3.9, 3.10\n",
    "4.1             | 3.8, 3.9, 3.10, 3.11 (added in 4.1.3)\n",
    "</pre>"
   ]
  },
  {
   "attachments": {},
   "cell_type": "markdown",
   "metadata": {},
   "source": [
    "### Django가 포함된 requirements.txt 작성하기\n",
    "python version이 3.10이므로 이에 맞는 Django버전인 4.1을 명시한다.\n",
    "project/requirements.txt\n",
    "```\n",
    "Django==4.1\n",
    "```"
   ]
  },
  {
   "attachments": {},
   "cell_type": "markdown",
   "metadata": {},
   "source": [
    "### 가상환경 만들기\n",
    "```Bash\n",
    "$ python -m venv .venv\n",
    "```"
   ]
  },
  {
   "attachments": {},
   "cell_type": "markdown",
   "metadata": {},
   "source": [
    "### 가상환경에 Django설치하기\n",
    "```bash\n",
    "python3 -m pip install -r requirements.txt\n",
    "```"
   ]
  },
  {
   "attachments": {},
   "cell_type": "markdown",
   "metadata": {},
   "source": [
    "### 프로젝트 생성하기\n",
    "document에는 `$ django-admin startproject mysite`으로 되어있지만, \n",
    "\n",
    "필자의 로컬에서는 실행되지 않았다. (우분투라 그런가?)<br>\n",
    "다양한 방법을 검색하고 시도해보다가<br>\n",
    "다음과 같은 명령어로 프로젝트가 실행되었다.<br>\n",
    "`$ python -m django startproject mysite`"
   ]
  },
  {
   "attachments": {},
   "cell_type": "markdown",
   "metadata": {},
   "source": [
    "### 프로젝트 확인해보기\n",
    "```\n",
    "mysite/\n",
    "    manage.py\n",
    "    mysite/\n",
    "        __init__.py\n",
    "        asgi.py\n",
    "        settings.py\n",
    "        urls.py\n",
    "        wsgi.py\n",
    "```\n",
    "- `외부 mysite`: 루트 디렉토리, 프로젝트의 컨테이너이다. (바꾸어도 상관없다)\n",
    "- `manage.py`: Django 프로젝트와 다양한 방식으로 상호 작용할 수 있는 명령줄 유틸리티입니다. django-admin 및 manage.py에 대한 모든 세부 정보를 읽을 수 있습니다 .\n",
    "- `내부 mysite`: 프로젝트의 실제 Python패키지\n",
    "- `mysite/__init__.py`: 현재 디렉토리를 Python 패키지로 간주함을 알리는 파일\n",
    "- `mysite/settings.py`: Django 프로젝트에 대한 설정/구성을 관리하는 파일, IMFlask에서의 Config를 담당한다.\n",
    "- `mysite/urls.py`: Django 프로젝트에 대한 URL 선언,\n",
    "- `mysite/asgi.py`: 프로젝트를 제공하기 위한 ASGI 호환 웹 서버의 진입점\n",
    "- `mysite/wsgi.py`: 프로젝트를 제공하기 위한 WSGI 호환 웹 서버의 진입점\n"
   ]
  },
  {
   "attachments": {},
   "cell_type": "markdown",
   "metadata": {},
   "source": [
    "### 프로젝트 실행하기\n",
    "- `외부 mysite` 디렉토리로 이동한다.\n",
    "- `$ python manage.py runserver`를 이용하여 서버를 킨다."
   ]
  },
  {
   "attachments": {},
   "cell_type": "markdown",
   "metadata": {},
   "source": [
    "### 투표 앱 만들기\n",
    "- 지금까지 project(프로젝트)를 만들어 실행해보았다.\n",
    "- 장고로 작성하는 각 애플리케이션(프로젝트X)는 특정 규칙을 따르는 파이썬 패키지로 구성된다.\n",
    "- 장고는 앱의 기본 디렉토리 구조를 자동으로 생성해주는 유틸리티가 함께 제공되기에 디렉토리를 직접 만드는 것보다 코드 작성에 집중할 수 있다.\n",
    "\n",
    "##### 프로젝트 VS 앱\n",
    "- 앱 : 블로그 시스템, 공공 기록 데이터베이스 앱 등과 같은 `기능을 수행하는 웹 어플리케이션`을 말한다.\n",
    "- 프로젝트 : 특정 웹 사이트에 대한 구성 및 앱의 모음이다.\n",
    "\n",
    "즉, 프로젝트에는 여러개의 앱이 포함될 수 있고, 앱은 여러 프로젝트에 포함될 수있다.\n",
    "\n",
    "1. 생성된 프로젝트의 `manage.py`가 있는 디렉토리로 이동한다.\n",
    "2. `python manage.py startapp polls`를 통해 앱(어플리케이션)을 생성한다.\n",
    "\n",
    "#### 만들어진 투표앱 살펴보기\n",
    "생성된 `pools` 어플리케이션을 확인해보면 다음과 같이 구성되어있다.\n",
    "```\n",
    "polls/\n",
    "    __init__.py\n",
    "    admin.py\n",
    "    apps.py\n",
    "    migrations/\n",
    "        __init__.py\n",
    "    models.py\n",
    "    tests.py\n",
    "    tests.py\n",
    "    views.py\n",
    "```"
   ]
  },
  {
   "attachments": {},
   "cell_type": "markdown",
   "metadata": {},
   "source": [
    "### View를 작성해봅시다\n",
    "```python\n",
    "# polls/views.py\n",
    "\n",
    "from django.http import HttpResponse\n",
    "\n",
    "\n",
    "def index(request):\n",
    "    return HttpResponse(\"Hello, world. You're at the polls index.\")\n",
    "```\n",
    "View를 작성한다고 바로 접속이 되는 것은 아니다.<br>\n",
    "<del>어떤 URL에 매핑되었는지를 알아야지</del><br>\n",
    "만들어진 view에 접속하기 위해서는 url과 view를 매핑시켜줘야한다.<br>\n",
    "어플리케이션(polls)에 `urls.py`파일을 만들어 url과 view를 매핑시킬 수 있다.\n",
    "```\n",
    "polls/\n",
    "    __init__.py\n",
    "    admin.py\n",
    "    apps.py\n",
    "    migrations/\n",
    "        __init__.py\n",
    "    models.py\n",
    "    tests.py\n",
    "    urls.py          <--------- 생성하기\n",
    "    views.py\n",
    "```"
   ]
  },
  {
   "attachments": {},
   "cell_type": "markdown",
   "metadata": {},
   "source": [
    "### URL을 매핑하자\n",
    "```python\n",
    "# polls/urls.py\n",
    "\n",
    "from django.urls import path\n",
    "\n",
    "from . import views\n",
    "\n",
    "urlpatterns = [\n",
    "    path('', views.index, name='index'),\n",
    "]\n",
    "```\n",
    "\n",
    "과연 url을 매핑한다고해서 잘 돌아갈까?\n",
    "<del>응? 또 뭐가 있나?</del><br>\n",
    "프로젝트내에서 `polls` 어플리케이션이 어떤 url을 통해 제공되는지를 알아야한다.\n",
    "<del>아 그러네... 프로젝트 안에는 여러 어플리케이션들이 있을테니까, 얘가 어디로 매핑되는지 알아야지</del><br>\n"
   ]
  },
  {
   "attachments": {},
   "cell_type": "markdown",
   "metadata": {},
   "source": [
    "### 프로젝트에서 polls에 접근하는 url을 매핑하자\n",
    "```python\n",
    "# mysite/urls.py\n",
    "from django.contrib import admin\n",
    "from django.urls import include, path\n",
    "\n",
    "urlpatterns = [\n",
    "    path('polls/', include('polls.urls')),\n",
    "    path('admin/', admin.site.urls),\n",
    "]\n",
    "```\n",
    "`include`: 다른 URLconf를 참조할 수 있게 하는 기능, <br>\n",
    "Django는 `inclde`를 만날 때마다, 해당 지점까지 일치하는 URL의 모든 부분을 잘라내고, <br>\n",
    "추가 처리를 위해 포함된 URLconf로 나머지 문자열을 보낸다.\n",
    "\n",
    "cf) `include`를 언제 쓸까?\n",
    "- 다른 URL패턴을 사용할 때 (ex. polls 어플리케이션의 urls.py를 참조할 때)\n",
    "- admin.site.url은 고정이다!"
   ]
  },
  {
   "attachments": {},
   "cell_type": "markdown",
   "metadata": {},
   "source": [
    "#### 다시 프로젝트를 실행해보자\n",
    "`python manage.py runserver`\n",
    "\n",
    "##### 어라 왜 안돼?\n",
    "- `http://127.0.0.1:8000/polls/`에 접속하자... <바보야!>"
   ]
  },
  {
   "attachments": {},
   "cell_type": "markdown",
   "metadata": {},
   "source": [
    "### URL에 포함되는 Path는 무엇일까?\n",
    "Path함수는 네 개의 매개변수가 전달될 수 있고,<br>\n",
    "그 중에 `route`와 `view`는 필수/`'kwargs`, `name`은 선택으로 전달된다.\n",
    "\n",
    "#### Path()의 route는 무엇일까\n",
    "- `route`는 URL 패턴을 포함하는 문자열이다. (flask의 route 안의 url문자열을 생각하자)\n",
    "- 요청을 처리할 때 Django는 URL 패턴의 첫번째 패턴에서 시작하여 일치하는 URL을 찾을 때까지<br>\n",
    "요청된 URL을 각 패턴과 비교하여 목록 아래로 이동한다.\n",
    "\n",
    "패턴은 GET/POST 매개변수나 도메인 이름을 검색하지 않는다<br>\n",
    "예를들어<br>\n",
    "https://www.example.com/myapp/을 찾는다고 하면, URLconf는 myapp/을 찾을 것이다.<br>\n",
    "https://www.example.com/myapp/?page=3에대한 요청에서도 myapp/을 찾을 것이다.\n",
    "\n",
    "#### Path()의 view는 무엇일까\n",
    "- Django는 일치하는 패턴을 찾으면, `HttpRequest` 객체를 첫번째 인수로하고, \n",
    "- 경로로부터 \"캡처된 값\"을 키워드 인수로 하여 특정한 view함수를 호출한다.\n",
    "\n",
    "#### Path()의 kwargs는 무엇인가\n",
    "- 임의의 키워드 인수들은 목표한 view에 Dict형으로 전달된다.\n",
    "\n",
    "#### Path()의 name은 무엇인가\n",
    "- URL에 이름을 지으면, 템플릿을 포함한 Django어디에서나 명확하게 참조할 수 있다.\n",
    "- 이를 이용하면 단 하나의 파일만 수정해도 프로젝트 안의 모든 URL패턴을 바꿀 수 있다."
   ]
  },
  {
   "cell_type": "markdown",
   "metadata": {},
   "source": []
  }
 ],
 "metadata": {
  "language_info": {
   "name": "python"
  },
  "orig_nbformat": 4
 },
 "nbformat": 4,
 "nbformat_minor": 2
}
